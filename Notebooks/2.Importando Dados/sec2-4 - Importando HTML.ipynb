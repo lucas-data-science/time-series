{
 "cells": [
  {
   "cell_type": "markdown",
   "metadata": {
    "id": "46Pph5XhvAwm"
   },
   "source": [
    "# Importar HTML\n",
    "Prof. Fernando Amaral"
   ]
  },
  {
   "cell_type": "code",
   "execution_count": 2,
   "metadata": {
    "executionInfo": {
     "elapsed": 795,
     "status": "ok",
     "timestamp": 1686167608503,
     "user": {
      "displayName": "Fernando Amaral",
      "userId": "13956145547499510680"
     },
     "user_tz": 180
    },
    "id": "bNi1DOI4vAwq"
   },
   "outputs": [],
   "source": [
    "import pandas as pd\n",
    "br = pd.read_html(\"https://pt.wikipedia.org/wiki/Unidades_federativas_do_Brasil\")"
   ]
  },
  {
   "cell_type": "code",
   "execution_count": 3,
   "metadata": {
    "colab": {
     "base_uri": "https://localhost:8080/"
    },
    "executionInfo": {
     "elapsed": 317,
     "status": "ok",
     "timestamp": 1686167610819,
     "user": {
      "displayName": "Fernando Amaral",
      "userId": "13956145547499510680"
     },
     "user_tz": 180
    },
    "id": "saasGE2avAws",
    "outputId": "b826e372-e3e4-4c16-b9c0-e89a3cf5be39"
   },
   "outputs": [
    {
     "name": "stdout",
     "output_type": "stream",
     "text": [
      "<class 'list'>\n"
     ]
    }
   ],
   "source": [
    "#verificamos o tipo criado, vemos que é uma lista\n",
    "print(type(br)) "
   ]
  },
  {
   "cell_type": "code",
   "execution_count": 4,
   "metadata": {
    "id": "RUksfmCxvAwt"
   },
   "outputs": [
    {
     "name": "stdout",
     "output_type": "stream",
     "text": [
      "    Bandeira   Unidade federativa Abreviação Sede de governo   Área (km²)  \\\n",
      "0        NaN                 Acre         AC      Rio Branco    164 122,2   \n",
      "1        NaN              Alagoas         AL          Maceió     27 767,7   \n",
      "2        NaN                Amapá         AP          Macapá    142 814,6   \n",
      "3        NaN             Amazonas         AM          Manaus  1 570 745,7   \n",
      "4        NaN                Bahia         BA        Salvador    564 692,7   \n",
      "5        NaN                Ceará         CE       Fortaleza    148 825,6   \n",
      "6        NaN     Distrito Federal         DF        Brasília      5 822,1   \n",
      "7        NaN       Espírito Santo         ES         Vitória     46 077,5   \n",
      "8        NaN                Goiás         GO         Goiânia    340 086,7   \n",
      "9        NaN             Maranhão         MA        São Luís    331 983,3   \n",
      "10       NaN          Mato Grosso         MT          Cuiabá    903 357,9   \n",
      "11       NaN   Mato Grosso do Sul         MS    Campo Grande    357 125,0   \n",
      "12       NaN         Minas Gerais         MG  Belo Horizonte    586 528,3   \n",
      "13       NaN                 Pará         PA           Belém  1 247 689,5   \n",
      "14       NaN              Paraíba         PB     João Pessoa     56 439,8   \n",
      "15       NaN               Paraná         PR        Curitiba    199 314,9   \n",
      "16       NaN           Pernambuco         PE          Recife     98 311,6   \n",
      "17       NaN                Piauí         PI        Teresina    251 529,2   \n",
      "18       NaN       Rio de Janeiro         RJ  Rio de Janeiro     43 696,1   \n",
      "19       NaN  Rio Grande do Norte         RN           Natal     52 796,8   \n",
      "20       NaN    Rio Grande do Sul         RS    Porto Alegre    281 748,5   \n",
      "21       NaN             Rondônia         RO     Porto Velho    237 576,2   \n",
      "22       NaN              Roraima         RR       Boa Vista    224 299,0   \n",
      "23       NaN       Santa Catarina         SC   Florianópolis     95 346,2   \n",
      "24       NaN            São Paulo         SP       São Paulo    248 209,4   \n",
      "25       NaN              Sergipe         SE         Aracaju     21 910,3   \n",
      "26       NaN            Tocantins         TO          Palmas    277 620,9   \n",
      "\n",
      "   População (Censo 2022)  Densidade (2005)     PIB (2015)  (% total) (2015)  \\\n",
      "0                 830 018               430     13 622 000                 2   \n",
      "1               3 127 683             10861     46 364 000                 8   \n",
      "2                 733 759               416     13 861 000                 2   \n",
      "3               3 941 613               205     86 560 000                14   \n",
      "4              14 141 626              2446    245 025 000                41   \n",
      "5               8 794 957              5440    130 621 000                22   \n",
      "6               2 817 381             40073    215 613 000                36   \n",
      "7               3 833 712              7397    120 363 000                 2   \n",
      "8               7 056 495              1652    173 632 000                29   \n",
      "9               6 755 805              1838     78 475 000                13   \n",
      "10              3 658 649               310    107 418 000                18   \n",
      "11              2 757 013               634     83 082 000                14   \n",
      "12             20 539 989              3279    519 326 000                87   \n",
      "13              8 121 025               558    130 883 000                22   \n",
      "14              3 974 687              6371     56 140 000                 9   \n",
      "15             11 444 380              5148    376 960 000                63   \n",
      "16              9 058 931              8558    156 955 000                26   \n",
      "17              3 271 199              1195     39 148 000                 7   \n",
      "18             16 055 174             35205    659 137 000                11   \n",
      "19              3 302 729              5688     57 250 000                 1   \n",
      "20             11 882 965              3849    381 985 000                64   \n",
      "21              1 581 196               646     36 563 000                 6   \n",
      "22                636 707               174     10 354 000                 2   \n",
      "23              7 610 361              6153    249 073 000                42   \n",
      "24             44 411 238             16293  1 939 890 000               324   \n",
      "25              2 210 004              8981     38 554 000                 6   \n",
      "26              1 511 460               470     28 930 000                 5   \n",
      "\n",
      "   PIB per capita (R$) (2015)  IDH (2010) Alfabetização (2016)  \\\n",
      "0                   16 953,46         663                86,9%   \n",
      "1                   13 877,53         631                80,6%   \n",
      "2                   18 079,54         708                  95%   \n",
      "3                   21 978,95         674                93,1%   \n",
      "4                   16 115,89         660                  87%   \n",
      "5                   14 669,14         682                84,8%   \n",
      "6                   73 971,05         824                97,4%   \n",
      "7                   30 627,45         740                93,8%   \n",
      "8                   26 265,32         735                93,5%   \n",
      "9                   11 366,23         639                83,3%   \n",
      "10                  32 894,96         725                93,5%   \n",
      "11                  31 337,22         729                93,7%   \n",
      "12                  24 884,94         731                93,8%   \n",
      "13                  16 009,98         646                90,7%   \n",
      "14                  14 133,32         658                83,7%   \n",
      "15                  33 768,62         749                95,5%   \n",
      "16                  16 795,34         673                87,2%   \n",
      "17                  12 218,51         646                82,8%   \n",
      "18                  39 826,95         761                97,3%   \n",
      "19                  16 631,86         684                85,3%   \n",
      "20                  33 960,36         746                96,8%   \n",
      "21                  20 677,95         690                93,3%   \n",
      "22                  20 476,71         707                93,4%   \n",
      "23                  36 525,28         774                97,2%   \n",
      "24                  43 694,68         783                97,2%   \n",
      "25                  17 189,28         665                85,3%   \n",
      "26                  19 094,16         699                89,6%   \n",
      "\n",
      "   Mortalidade infantil (2016) Expectativa de vida (2016)  \n",
      "0                        17,0‰                  73,9 anos  \n",
      "1                        19,5‰                  71,6 anos  \n",
      "2                        23,2‰                  73,9 anos  \n",
      "3                        18,2‰                  71,9 anos  \n",
      "4                        17,3‰                  73,5 anos  \n",
      "5                        14,4‰                  73,8 anos  \n",
      "6                        10,5‰                  78,1 anos  \n",
      "7                         8,8‰                  78,2 anos  \n",
      "8                        14,9‰                  74,2 anos  \n",
      "9                        21,3‰                  70,6 anos  \n",
      "10                       16,9‰                  74,2 anos  \n",
      "11                       14,0‰                  75,5 anos  \n",
      "12                       10,9‰                  77,2 anos  \n",
      "13                       16,6‰                  72,1 anos  \n",
      "14                       16,1‰                  73,2 anos  \n",
      "15                        9,3‰                  77,1 anos  \n",
      "16                       12,7‰                  73,9 anos  \n",
      "17                       19,1‰                  71,1 anos  \n",
      "18                       11,5‰                  76,2 anos  \n",
      "19                       14,7‰                  75,7 anos  \n",
      "20                        9,6‰                  77,8 anos  \n",
      "21                       20,0‰                  71,3 anos  \n",
      "22                       17,2‰                  71,5 anos  \n",
      "23                        9,2‰                  79,1 anos  \n",
      "24                        9,9‰                  78,1 anos  \n",
      "25                       16,2‰                  72,7 anos  \n",
      "26                       15,8‰                  73,4 anos  \n"
     ]
    }
   ],
   "source": [
    "#vamos ler o index zero\n",
    "u = br[1]\n",
    "print(u)"
   ]
  },
  {
   "cell_type": "code",
   "execution_count": 5,
   "metadata": {
    "colab": {
     "base_uri": "https://localhost:8080/"
    },
    "executionInfo": {
     "elapsed": 293,
     "status": "ok",
     "timestamp": 1686167696808,
     "user": {
      "displayName": "Fernando Amaral",
      "userId": "13956145547499510680"
     },
     "user_tz": 180
    },
    "id": "uilYMMBMMnaV",
    "outputId": "c955127f-6d17-4b87-c32e-602511d7d063"
   },
   "outputs": [
    {
     "name": "stdout",
     "output_type": "stream",
     "text": [
      "<class 'pandas.core.frame.DataFrame'>\n"
     ]
    }
   ],
   "source": [
    "print(type(u))"
   ]
  },
  {
   "cell_type": "code",
   "execution_count": 6,
   "metadata": {
    "colab": {
     "base_uri": "https://localhost:8080/"
    },
    "executionInfo": {
     "elapsed": 330,
     "status": "ok",
     "timestamp": 1686167731017,
     "user": {
      "displayName": "Fernando Amaral",
      "userId": "13956145547499510680"
     },
     "user_tz": 180
    },
    "id": "ITWuCAydvAwt",
    "outputId": "e06d2675-2f22-490a-aa47-d6d78e4dabf4"
   },
   "outputs": [
    {
     "name": "stdout",
     "output_type": "stream",
     "text": [
      "    Posição            Nome do banco     Cidade sede  \\\n",
      "0         1            Itaú Unibanco       São Paulo   \n",
      "1         2          Banco do Brasil        Brasília   \n",
      "2         3                 Bradesco          Osasco   \n",
      "3         4  Caixa Econômica Federal        Brasília   \n",
      "4         5         Santander Brasil       São Paulo   \n",
      "5         6              BTG Pactual  Rio de Janeiro   \n",
      "6         7                  Sicredi    Porto Alegre   \n",
      "7         8                   Sicoob        Brasília   \n",
      "8         9              Banco Safra       São Paulo   \n",
      "9        10          Citibank Brasil       São Paulo   \n",
      "10       11                 Banrisul    Porto Alegre   \n",
      "11       12         Banco Votorantim       São Paulo   \n",
      "\n",
      "   Ativos totais em R$ (bilhões)    Data dos dados  País de origem  \n",
      "0                       2 854[1]  Dezembro de 2024          Brasil  \n",
      "1                       2 395[2]  Dezembro de 2024          Brasil  \n",
      "2                       2 069[3]  Dezembro de 2024          Brasil  \n",
      "3                       2 000[2]  Dezembro de 2024          Brasil  \n",
      "4                       1 238[4]  Dezembro de 2024         Espanha  \n",
      "5                       559,6[5]  Dezembro de 2024          Brasil  \n",
      "6                            397  Dezembro de 2024          Brasil  \n",
      "7                            359  Dezembro de 2024          Brasil  \n",
      "8                       316,9[6]  Dezembro de 2024          Brasil  \n",
      "9                       213,4[7]  Dezembro de 2024  Estados Unidos  \n",
      "10                      147,9[4]  Dezembro de 2024          Brasil  \n",
      "11                          1417  Dezembro de 2024          Brasil  \n"
     ]
    }
   ],
   "source": [
    "bcs = pd.read_html(\"https://pt.wikipedia.org/wiki/Lista_dos_maiores_bancos_do_Brasil\")\n",
    "b =bcs[1]\n",
    "print(b)"
   ]
  },
  {
   "cell_type": "code",
   "execution_count": null,
   "metadata": {
    "id": "DCtqtXFIMUXN"
   },
   "outputs": [],
   "source": []
  }
 ],
 "metadata": {
  "colab": {
   "provenance": []
  },
  "kernelspec": {
   "display_name": "base",
   "language": "python",
   "name": "python3"
  },
  "language_info": {
   "codemirror_mode": {
    "name": "ipython",
    "version": 3
   },
   "file_extension": ".py",
   "mimetype": "text/x-python",
   "name": "python",
   "nbconvert_exporter": "python",
   "pygments_lexer": "ipython3",
   "version": "3.11.5"
  }
 },
 "nbformat": 4,
 "nbformat_minor": 0
}
