{
 "cells": [
  {
   "cell_type": "markdown",
   "metadata": {
    "id": "oGkOLsIcexKm"
   },
   "source": [
    "# Algumas Funções Específicas de Data do Python\n",
    "Prof. Fernando Amaral"
   ]
  },
  {
   "cell_type": "code",
   "execution_count": 1,
   "metadata": {
    "colab": {
     "base_uri": "https://localhost:8080/"
    },
    "executionInfo": {
     "elapsed": 306,
     "status": "ok",
     "timestamp": 1686252132822,
     "user": {
      "displayName": "Fernando Amaral",
      "userId": "13956145547499510680"
     },
     "user_tz": 180
    },
    "id": "l0spLw_fexKp",
    "outputId": "474f054e-719c-44b7-9413-5fef2af6203f"
   },
   "outputs": [
    {
     "data": {
      "text/plain": [
       "datetime.datetime(2019, 7, 7, 0, 0)"
      ]
     },
     "execution_count": 1,
     "metadata": {},
     "output_type": "execute_result"
    }
   ],
   "source": [
    "from datetime import datetime\n",
    "dt = datetime(year=2019, month=7, day = 7)\n",
    "dt"
   ]
  },
  {
   "cell_type": "code",
   "execution_count": 2,
   "metadata": {
    "colab": {
     "base_uri": "https://localhost:8080/"
    },
    "executionInfo": {
     "elapsed": 311,
     "status": "ok",
     "timestamp": 1686252155808,
     "user": {
      "displayName": "Fernando Amaral",
      "userId": "13956145547499510680"
     },
     "user_tz": 180
    },
    "id": "FNgs_ahVexKr",
    "outputId": "262fc3f1-1306-45d7-a2a1-621e84d2049c"
   },
   "outputs": [
    {
     "name": "stdout",
     "output_type": "stream",
     "text": [
      "<class 'datetime.datetime'>\n"
     ]
    }
   ],
   "source": [
    "print(type(dt))"
   ]
  },
  {
   "cell_type": "code",
   "execution_count": 3,
   "metadata": {
    "colab": {
     "base_uri": "https://localhost:8080/"
    },
    "executionInfo": {
     "elapsed": 319,
     "status": "ok",
     "timestamp": 1686252203752,
     "user": {
      "displayName": "Fernando Amaral",
      "userId": "13956145547499510680"
     },
     "user_tz": 180
    },
    "id": "6uzJLHyGexKr",
    "outputId": "d1acd04a-fc3f-458e-a0f7-617617ba8157"
   },
   "outputs": [
    {
     "data": {
      "text/plain": [
       "datetime.datetime(2023, 10, 26, 0, 0)"
      ]
     },
     "execution_count": 3,
     "metadata": {},
     "output_type": "execute_result"
    }
   ],
   "source": [
    "#parser é usado para analisar strings de data e hora em objetos datetime\n",
    "from dateutil import parser\n",
    "date = parser.parse('26th of October, 2023')\n",
    "date"
   ]
  },
  {
   "cell_type": "code",
   "execution_count": 4,
   "metadata": {
    "colab": {
     "base_uri": "https://localhost:8080/"
    },
    "executionInfo": {
     "elapsed": 320,
     "status": "ok",
     "timestamp": 1686252233223,
     "user": {
      "displayName": "Fernando Amaral",
      "userId": "13956145547499510680"
     },
     "user_tz": 180
    },
    "id": "ZUqS9HYnapjT",
    "outputId": "5cf951c8-5182-4232-b8d0-579a5bb9bfdb"
   },
   "outputs": [
    {
     "data": {
      "text/plain": [
       "datetime.datetime(2023, 10, 26, 0, 0)"
      ]
     },
     "execution_count": 4,
     "metadata": {},
     "output_type": "execute_result"
    }
   ],
   "source": [
    "from dateutil import parser\n",
    "date = parser.parse('October 26th, 2023')\n",
    "date"
   ]
  },
  {
   "cell_type": "code",
   "execution_count": 5,
   "metadata": {
    "colab": {
     "base_uri": "https://localhost:8080/"
    },
    "executionInfo": {
     "elapsed": 307,
     "status": "ok",
     "timestamp": 1686252272847,
     "user": {
      "displayName": "Fernando Amaral",
      "userId": "13956145547499510680"
     },
     "user_tz": 180
    },
    "id": "gGro9t8nexKr",
    "outputId": "591a2acc-a220-43fd-d281-de9fb388da0a"
   },
   "outputs": [
    {
     "data": {
      "text/plain": [
       "array('2019-07-04', dtype='datetime64[D]')"
      ]
     },
     "execution_count": 5,
     "metadata": {},
     "output_type": "execute_result"
    }
   ],
   "source": [
    "import numpy as np\n",
    "date = np.array('2019-07-04', dtype=np.datetime64)\n",
    "date"
   ]
  },
  {
   "cell_type": "code",
   "execution_count": 6,
   "metadata": {
    "colab": {
     "base_uri": "https://localhost:8080/"
    },
    "executionInfo": {
     "elapsed": 391,
     "status": "ok",
     "timestamp": 1686252278501,
     "user": {
      "displayName": "Fernando Amaral",
      "userId": "13956145547499510680"
     },
     "user_tz": 180
    },
    "id": "afrRT89Ja-SB",
    "outputId": "0dae5235-768f-411e-acf6-0c8200388610"
   },
   "outputs": [
    {
     "name": "stdout",
     "output_type": "stream",
     "text": [
      "<class 'numpy.ndarray'>\n"
     ]
    }
   ],
   "source": [
    "print(type(date))"
   ]
  },
  {
   "cell_type": "code",
   "execution_count": 7,
   "metadata": {
    "colab": {
     "base_uri": "https://localhost:8080/"
    },
    "executionInfo": {
     "elapsed": 270,
     "status": "ok",
     "timestamp": 1686252305629,
     "user": {
      "displayName": "Fernando Amaral",
      "userId": "13956145547499510680"
     },
     "user_tz": 180
    },
    "id": "ySXtf0LKexKr",
    "outputId": "5b43774d-1c0a-4a6c-fd70-85b47f732ec7"
   },
   "outputs": [
    {
     "data": {
      "text/plain": [
       "array(['2019-07-04', '2019-07-05', '2019-07-06', '2019-07-07',\n",
       "       '2019-07-08', '2019-07-09', '2019-07-10', '2019-07-11',\n",
       "       '2019-07-12', '2019-07-13', '2019-07-14', '2019-07-15'],\n",
       "      dtype='datetime64[D]')"
      ]
     },
     "execution_count": 7,
     "metadata": {},
     "output_type": "execute_result"
    }
   ],
   "source": [
    "# adiciona dias a data\n",
    "date + np.arange(12)"
   ]
  }
 ],
 "metadata": {
  "colab": {
   "provenance": []
  },
  "kernelspec": {
   "display_name": "base",
   "language": "python",
   "name": "python3"
  },
  "language_info": {
   "codemirror_mode": {
    "name": "ipython",
    "version": 3
   },
   "file_extension": ".py",
   "mimetype": "text/x-python",
   "name": "python",
   "nbconvert_exporter": "python",
   "pygments_lexer": "ipython3",
   "version": "3.11.5"
  }
 },
 "nbformat": 4,
 "nbformat_minor": 0
}
