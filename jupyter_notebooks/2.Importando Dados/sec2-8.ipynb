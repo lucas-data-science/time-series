{
 "cells": [
  {
   "cell_type": "markdown",
   "metadata": {},
   "source": [
    "# Importar HTML\n",
    "Prof. Fernando Amaral"
   ]
  },
  {
   "cell_type": "code",
   "execution_count": 3,
   "metadata": {},
   "outputs": [
    {
     "name": "stdout",
     "output_type": "stream",
     "text": [
      "Requirement already satisfied: html5lib in /home/lucas/.local/lib/python3.8/site-packages (1.1)\n",
      "Requirement already satisfied: webencodings in /usr/lib/python3/dist-packages (from html5lib) (0.5.1)\n",
      "Requirement already satisfied: six>=1.9 in /usr/lib/python3/dist-packages (from html5lib) (1.14.0)\n"
     ]
    }
   ],
   "source": [
    "!pip install html5lib "
   ]
  },
  {
   "cell_type": "code",
   "execution_count": 4,
   "metadata": {},
   "outputs": [],
   "source": [
    "#conda install html5lib\n",
    "import pandas as pd\n",
    "import html5lib\n",
    "br = pd.read_html(\"https://pt.wikipedia.org/wiki/Unidades_federativas_do_Brasil\")"
   ]
  },
  {
   "cell_type": "code",
   "execution_count": 5,
   "metadata": {},
   "outputs": [
    {
     "name": "stdout",
     "output_type": "stream",
     "text": [
      "<class 'list'>\n"
     ]
    }
   ],
   "source": [
    "#verificamos o tipo criado, vemos que é uma lista\n",
    "print(type(br)) "
   ]
  },
  {
   "cell_type": "code",
   "execution_count": 6,
   "metadata": {},
   "outputs": [
    {
     "name": "stdout",
     "output_type": "stream",
     "text": [
      "               0                                                  1  \\\n",
      "0     Capítulo I             Da Organização Político-Administrativa   \n",
      "1    Capítulo II                                           Da União   \n",
      "2   Capítulo III                              Dos Estados Federados   \n",
      "3    Capítulo IV                                     Dos Municípios   \n",
      "4     Capítulo V              Do Distrito Federal e dos Territórios   \n",
      "5        Seção I                                Do Distrito Federal   \n",
      "6       Seção II                                    Dos Territórios   \n",
      "7    Capítulo VI                                     Da Intervenção   \n",
      "8   Capítulo VII                           Da Administração Pública   \n",
      "9        Seção I                                 Disposições Gerais   \n",
      "10      Seção II                            Dos Servidores Públicos   \n",
      "11     Seção III  Dos Militares dos Estados, do Distrito Federal...   \n",
      "12      Seção IV                                        Das Regiões   \n",
      "\n",
      "             2  \n",
      "0   art. 18-19  \n",
      "1   art. 20-24  \n",
      "2   art. 25-28  \n",
      "3   art. 29-31  \n",
      "4   art. 32-33  \n",
      "5      art. 32  \n",
      "6      art. 33  \n",
      "7   art. 34-36  \n",
      "8   art. 37-43  \n",
      "9   art. 37-38  \n",
      "10  art. 39-41  \n",
      "11     art. 42  \n",
      "12     art. 43  \n"
     ]
    }
   ],
   "source": [
    "#vamos ler o dataframe de index zero\n",
    "u = br[0]\n",
    "print(u)"
   ]
  },
  {
   "cell_type": "code",
   "execution_count": 7,
   "metadata": {},
   "outputs": [
    {
     "name": "stdout",
     "output_type": "stream",
     "text": [
      "    Posição            Nome do banco   Cidade sede  \\\n",
      "0         1            Itaú Unibanco     São Paulo   \n",
      "1         2          Banco do Brasil      Brasília   \n",
      "2         3  Caixa Econômica Federal      Brasília   \n",
      "3         4                 Bradesco        Osasco   \n",
      "4         5         Santander Brasil     São Paulo   \n",
      "5         6              BTG Pactual     São Paulo   \n",
      "6         7              Banco Safra     São Paulo   \n",
      "7         8                   Sicoob      Brasília   \n",
      "8         9         Banco Votorantim     São Paulo   \n",
      "9        10          Citibank Brasil     São Paulo   \n",
      "10       11                 Banrisul  Porto Alegre   \n",
      "11       12        Banco do Nordeste     Fortaleza   \n",
      "\n",
      "   Ativos totais em R$ (bilhões)    Data dos dados  País de origem  \n",
      "0                       1.739[1]  Dezembro de 2019          Brasil  \n",
      "1                       1.540[2]  Dezembro de 2019          Brasil  \n",
      "2                       1.293[2]  Dezembro de 2019          Brasil  \n",
      "3                       1.152[3]  Dezembro de 2019          Brasil  \n",
      "4                       839,8[4]  Dezembro de 2019         Espanha  \n",
      "5                       176,6[5]  Dezembro de 2019          Brasil  \n",
      "6                       167,5[6]  Dezembro de 2019          Brasil  \n",
      "7                       117,2[5]  Dezembro de 2019          Brasil  \n",
      "8                        88,8[2]  Dezembro de 2019          Brasil  \n",
      "9                        88,5[7]  Dezembro de 2019  Estados Unidos  \n",
      "10                       80,9[4]  Dezembro de 2019          Brasil  \n",
      "11                       58,6[8]  Dezembro de 2019          Brasil  \n"
     ]
    }
   ],
   "source": [
    "bcs = pd.read_html(\"https://pt.wikipedia.org/wiki/Lista_dos_maiores_bancos_do_Brasil\")\n",
    "b =bcs[1]\n",
    "print(b)"
   ]
  },
  {
   "cell_type": "code",
   "execution_count": null,
   "metadata": {},
   "outputs": [],
   "source": []
  }
 ],
 "metadata": {
  "kernelspec": {
   "display_name": "Python 3.8.10 64-bit",
   "language": "python",
   "name": "python3"
  },
  "language_info": {
   "codemirror_mode": {
    "name": "ipython",
    "version": 3
   },
   "file_extension": ".py",
   "mimetype": "text/x-python",
   "name": "python",
   "nbconvert_exporter": "python",
   "pygments_lexer": "ipython3",
   "version": "3.8.10"
  },
  "vscode": {
   "interpreter": {
    "hash": "916dbcbb3f70747c44a77c7bcd40155683ae19c65e1c03b4aa3499c5328201f1"
   }
  }
 },
 "nbformat": 4,
 "nbformat_minor": 4
}
